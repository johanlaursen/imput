{
 "cells": [
  {
   "cell_type": "code",
   "execution_count": 2,
   "metadata": {},
   "outputs": [],
   "source": [
    "import pandas as pd"
   ]
  },
  {
   "cell_type": "code",
   "execution_count": 5,
   "metadata": {},
   "outputs": [],
   "source": [
    "data = pd.read_csv(\"jan_2019.csv\",header=0,encoding=\"ANSI\")"
   ]
  },
  {
   "cell_type": "code",
   "execution_count": 7,
   "metadata": {},
   "outputs": [
    {
     "data": {
      "text/html": [
       "<div>\n",
       "<style scoped>\n",
       "    .dataframe tbody tr th:only-of-type {\n",
       "        vertical-align: middle;\n",
       "    }\n",
       "\n",
       "    .dataframe tbody tr th {\n",
       "        vertical-align: top;\n",
       "    }\n",
       "\n",
       "    .dataframe thead th {\n",
       "        text-align: right;\n",
       "    }\n",
       "</style>\n",
       "<table border=\"1\" class=\"dataframe\">\n",
       "  <thead>\n",
       "    <tr style=\"text-align: right;\">\n",
       "      <th></th>\n",
       "      <th>RejseMaaned</th>\n",
       "      <th>RejseUge</th>\n",
       "      <th>StartStopPointNr</th>\n",
       "      <th>SlutStopPointNr</th>\n",
       "      <th>StartSite</th>\n",
       "      <th>SlutSite</th>\n",
       "      <th>NyUdførende</th>\n",
       "      <th>ModalKomb</th>\n",
       "      <th>SUM_of_Personrejser</th>\n",
       "    </tr>\n",
       "  </thead>\n",
       "  <tbody>\n",
       "    <tr>\n",
       "      <th>0</th>\n",
       "      <td>2019M01</td>\n",
       "      <td>201901</td>\n",
       "      <td>2</td>\n",
       "      <td>1845</td>\n",
       "      <td>Engelsborgvej</td>\n",
       "      <td>Nybrogård</td>\n",
       "      <td>Movia_H</td>\n",
       "      <td>Bus</td>\n",
       "      <td>1.0</td>\n",
       "    </tr>\n",
       "    <tr>\n",
       "      <th>1</th>\n",
       "      <td>2019M01</td>\n",
       "      <td>201901</td>\n",
       "      <td>2</td>\n",
       "      <td>1847</td>\n",
       "      <td>Engelsborgvej</td>\n",
       "      <td>Sophienholm</td>\n",
       "      <td>Movia_H</td>\n",
       "      <td>Bus</td>\n",
       "      <td>1.0</td>\n",
       "    </tr>\n",
       "    <tr>\n",
       "      <th>2</th>\n",
       "      <td>2019M01</td>\n",
       "      <td>201901</td>\n",
       "      <td>2</td>\n",
       "      <td>1899</td>\n",
       "      <td>Engelsborgvej</td>\n",
       "      <td>Skolebakken</td>\n",
       "      <td>Movia_H</td>\n",
       "      <td>Bus</td>\n",
       "      <td>1.0</td>\n",
       "    </tr>\n",
       "    <tr>\n",
       "      <th>3</th>\n",
       "      <td>2019M01</td>\n",
       "      <td>201901</td>\n",
       "      <td>2</td>\n",
       "      <td>2196</td>\n",
       "      <td>Engelsborgvej</td>\n",
       "      <td>Egebjerg Plejehjem</td>\n",
       "      <td>Movia_H</td>\n",
       "      <td>Bus</td>\n",
       "      <td>2.0</td>\n",
       "    </tr>\n",
       "    <tr>\n",
       "      <th>4</th>\n",
       "      <td>2019M01</td>\n",
       "      <td>201901</td>\n",
       "      <td>2</td>\n",
       "      <td>2693</td>\n",
       "      <td>Engelsborgvej</td>\n",
       "      <td>Vibenshus Runddel</td>\n",
       "      <td>Movia_H</td>\n",
       "      <td>Bus</td>\n",
       "      <td>1.0</td>\n",
       "    </tr>\n",
       "  </tbody>\n",
       "</table>\n",
       "</div>"
      ],
      "text/plain": [
       "  RejseMaaned  RejseUge  StartStopPointNr  SlutStopPointNr      StartSite  \\\n",
       "0     2019M01    201901                 2             1845  Engelsborgvej   \n",
       "1     2019M01    201901                 2             1847  Engelsborgvej   \n",
       "2     2019M01    201901                 2             1899  Engelsborgvej   \n",
       "3     2019M01    201901                 2             2196  Engelsborgvej   \n",
       "4     2019M01    201901                 2             2693  Engelsborgvej   \n",
       "\n",
       "             SlutSite NyUdførende ModalKomb  SUM_of_Personrejser  \n",
       "0           Nybrogård     Movia_H       Bus                  1.0  \n",
       "1         Sophienholm     Movia_H       Bus                  1.0  \n",
       "2         Skolebakken     Movia_H       Bus                  1.0  \n",
       "3  Egebjerg Plejehjem     Movia_H       Bus                  2.0  \n",
       "4   Vibenshus Runddel     Movia_H       Bus                  1.0  "
      ]
     },
     "execution_count": 7,
     "metadata": {},
     "output_type": "execute_result"
    }
   ],
   "source": [
    "data.head()"
   ]
  },
  {
   "cell_type": "code",
   "execution_count": 11,
   "metadata": {},
   "outputs": [
    {
     "data": {
      "text/plain": [
       "999.0"
      ]
     },
     "execution_count": 11,
     "metadata": {},
     "output_type": "execute_result"
    }
   ],
   "source": [
    "data[\"SUM_of_Personrejser\"].max()"
   ]
  },
  {
   "cell_type": "code",
   "execution_count": 21,
   "metadata": {},
   "outputs": [],
   "source": [
    "mask = data[\"SUM_of_Personrejser\"] > 500"
   ]
  },
  {
   "cell_type": "code",
   "execution_count": 22,
   "metadata": {},
   "outputs": [
    {
     "data": {
      "text/plain": [
       "(1149, 9)"
      ]
     },
     "execution_count": 22,
     "metadata": {},
     "output_type": "execute_result"
    }
   ],
   "source": [
    "data[mask].shape"
   ]
  },
  {
   "cell_type": "code",
   "execution_count": 28,
   "metadata": {},
   "outputs": [],
   "source": [
    "mask999 = data[\"SUM_of_Personrejser\"] > 998"
   ]
  },
  {
   "cell_type": "code",
   "execution_count": 29,
   "metadata": {},
   "outputs": [
    {
     "data": {
      "text/html": [
       "<div>\n",
       "<style scoped>\n",
       "    .dataframe tbody tr th:only-of-type {\n",
       "        vertical-align: middle;\n",
       "    }\n",
       "\n",
       "    .dataframe tbody tr th {\n",
       "        vertical-align: top;\n",
       "    }\n",
       "\n",
       "    .dataframe thead th {\n",
       "        text-align: right;\n",
       "    }\n",
       "</style>\n",
       "<table border=\"1\" class=\"dataframe\">\n",
       "  <thead>\n",
       "    <tr style=\"text-align: right;\">\n",
       "      <th></th>\n",
       "      <th>RejseMaaned</th>\n",
       "      <th>RejseUge</th>\n",
       "      <th>StartStopPointNr</th>\n",
       "      <th>SlutStopPointNr</th>\n",
       "      <th>StartSite</th>\n",
       "      <th>SlutSite</th>\n",
       "      <th>NyUdførende</th>\n",
       "      <th>ModalKomb</th>\n",
       "      <th>SUM_of_Personrejser</th>\n",
       "    </tr>\n",
       "  </thead>\n",
       "  <tbody>\n",
       "    <tr>\n",
       "      <th>1393906</th>\n",
       "      <td>2019M01</td>\n",
       "      <td>201903</td>\n",
       "      <td>8603313</td>\n",
       "      <td>8603307</td>\n",
       "      <td>Bella Center St.</td>\n",
       "      <td>Nørreport St.</td>\n",
       "      <td>Metro</td>\n",
       "      <td>Tog</td>\n",
       "      <td>999.0</td>\n",
       "    </tr>\n",
       "    <tr>\n",
       "      <th>2477438</th>\n",
       "      <td>2019M01</td>\n",
       "      <td>201905</td>\n",
       "      <td>8603308</td>\n",
       "      <td>8603304</td>\n",
       "      <td>Kongens Nytorv St.</td>\n",
       "      <td>Fasanvej St.</td>\n",
       "      <td>Metro</td>\n",
       "      <td>Tog</td>\n",
       "      <td>999.0</td>\n",
       "    </tr>\n",
       "  </tbody>\n",
       "</table>\n",
       "</div>"
      ],
      "text/plain": [
       "        RejseMaaned  RejseUge  StartStopPointNr  SlutStopPointNr  \\\n",
       "1393906     2019M01    201903           8603313          8603307   \n",
       "2477438     2019M01    201905           8603308          8603304   \n",
       "\n",
       "                  StartSite       SlutSite NyUdførende ModalKomb  \\\n",
       "1393906    Bella Center St.  Nørreport St.       Metro       Tog   \n",
       "2477438  Kongens Nytorv St.   Fasanvej St.       Metro       Tog   \n",
       "\n",
       "         SUM_of_Personrejser  \n",
       "1393906                999.0  \n",
       "2477438                999.0  "
      ]
     },
     "execution_count": 29,
     "metadata": {},
     "output_type": "execute_result"
    }
   ],
   "source": [
    "data[mask999]"
   ]
  },
  {
   "cell_type": "code",
   "execution_count": 31,
   "metadata": {},
   "outputs": [],
   "source": [
    "mask2 = (data[\"StartStopPointNr\"] == 8603313) & (data[\"SlutStopPointNr\"] == 8603307)"
   ]
  },
  {
   "cell_type": "code",
   "execution_count": 32,
   "metadata": {},
   "outputs": [
    {
     "data": {
      "text/html": [
       "<div>\n",
       "<style scoped>\n",
       "    .dataframe tbody tr th:only-of-type {\n",
       "        vertical-align: middle;\n",
       "    }\n",
       "\n",
       "    .dataframe tbody tr th {\n",
       "        vertical-align: top;\n",
       "    }\n",
       "\n",
       "    .dataframe thead th {\n",
       "        text-align: right;\n",
       "    }\n",
       "</style>\n",
       "<table border=\"1\" class=\"dataframe\">\n",
       "  <thead>\n",
       "    <tr style=\"text-align: right;\">\n",
       "      <th></th>\n",
       "      <th>RejseMaaned</th>\n",
       "      <th>RejseUge</th>\n",
       "      <th>StartStopPointNr</th>\n",
       "      <th>SlutStopPointNr</th>\n",
       "      <th>StartSite</th>\n",
       "      <th>SlutSite</th>\n",
       "      <th>NyUdførende</th>\n",
       "      <th>ModalKomb</th>\n",
       "      <th>SUM_of_Personrejser</th>\n",
       "    </tr>\n",
       "  </thead>\n",
       "  <tbody>\n",
       "    <tr>\n",
       "      <th>290249</th>\n",
       "      <td>2019M01</td>\n",
       "      <td>201901</td>\n",
       "      <td>8603313</td>\n",
       "      <td>8603307</td>\n",
       "      <td>Bella Center St.</td>\n",
       "      <td>Nørreport St.</td>\n",
       "      <td>Metro</td>\n",
       "      <td>Tog</td>\n",
       "      <td>700.0</td>\n",
       "    </tr>\n",
       "    <tr>\n",
       "      <th>810448</th>\n",
       "      <td>2019M01</td>\n",
       "      <td>201902</td>\n",
       "      <td>8603313</td>\n",
       "      <td>8603307</td>\n",
       "      <td>Bella Center St.</td>\n",
       "      <td>Nørreport St.</td>\n",
       "      <td>Metro</td>\n",
       "      <td>Tog</td>\n",
       "      <td>909.0</td>\n",
       "    </tr>\n",
       "    <tr>\n",
       "      <th>810449</th>\n",
       "      <td>2019M01</td>\n",
       "      <td>201902</td>\n",
       "      <td>8603313</td>\n",
       "      <td>8603307</td>\n",
       "      <td>Bella Center St.</td>\n",
       "      <td>Nørreport St.</td>\n",
       "      <td>Movia_H+Metro</td>\n",
       "      <td>Tog+Bus</td>\n",
       "      <td>1.0</td>\n",
       "    </tr>\n",
       "    <tr>\n",
       "      <th>1393906</th>\n",
       "      <td>2019M01</td>\n",
       "      <td>201903</td>\n",
       "      <td>8603313</td>\n",
       "      <td>8603307</td>\n",
       "      <td>Bella Center St.</td>\n",
       "      <td>Nørreport St.</td>\n",
       "      <td>Metro</td>\n",
       "      <td>Tog</td>\n",
       "      <td>999.0</td>\n",
       "    </tr>\n",
       "    <tr>\n",
       "      <th>1393907</th>\n",
       "      <td>2019M01</td>\n",
       "      <td>201903</td>\n",
       "      <td>8603313</td>\n",
       "      <td>8603307</td>\n",
       "      <td>Bella Center St.</td>\n",
       "      <td>Nørreport St.</td>\n",
       "      <td>Movia_H+Metro</td>\n",
       "      <td>Tog+Bus</td>\n",
       "      <td>1.0</td>\n",
       "    </tr>\n",
       "    <tr>\n",
       "      <th>1984471</th>\n",
       "      <td>2019M01</td>\n",
       "      <td>201904</td>\n",
       "      <td>8603313</td>\n",
       "      <td>8603307</td>\n",
       "      <td>Bella Center St.</td>\n",
       "      <td>Nørreport St.</td>\n",
       "      <td>First+Metro</td>\n",
       "      <td>Tog</td>\n",
       "      <td>1.0</td>\n",
       "    </tr>\n",
       "    <tr>\n",
       "      <th>1984472</th>\n",
       "      <td>2019M01</td>\n",
       "      <td>201904</td>\n",
       "      <td>8603313</td>\n",
       "      <td>8603307</td>\n",
       "      <td>Bella Center St.</td>\n",
       "      <td>Nørreport St.</td>\n",
       "      <td>Metro</td>\n",
       "      <td>Tog</td>\n",
       "      <td>968.0</td>\n",
       "    </tr>\n",
       "    <tr>\n",
       "      <th>1984473</th>\n",
       "      <td>2019M01</td>\n",
       "      <td>201904</td>\n",
       "      <td>8603313</td>\n",
       "      <td>8603307</td>\n",
       "      <td>Bella Center St.</td>\n",
       "      <td>Nørreport St.</td>\n",
       "      <td>Movia_H+Metro</td>\n",
       "      <td>Tog+Bus</td>\n",
       "      <td>2.0</td>\n",
       "    </tr>\n",
       "    <tr>\n",
       "      <th>2480810</th>\n",
       "      <td>2019M01</td>\n",
       "      <td>201905</td>\n",
       "      <td>8603313</td>\n",
       "      <td>8603307</td>\n",
       "      <td>Bella Center St.</td>\n",
       "      <td>Nørreport St.</td>\n",
       "      <td>Metro</td>\n",
       "      <td>Tog</td>\n",
       "      <td>749.0</td>\n",
       "    </tr>\n",
       "  </tbody>\n",
       "</table>\n",
       "</div>"
      ],
      "text/plain": [
       "        RejseMaaned  RejseUge  StartStopPointNr  SlutStopPointNr  \\\n",
       "290249      2019M01    201901           8603313          8603307   \n",
       "810448      2019M01    201902           8603313          8603307   \n",
       "810449      2019M01    201902           8603313          8603307   \n",
       "1393906     2019M01    201903           8603313          8603307   \n",
       "1393907     2019M01    201903           8603313          8603307   \n",
       "1984471     2019M01    201904           8603313          8603307   \n",
       "1984472     2019M01    201904           8603313          8603307   \n",
       "1984473     2019M01    201904           8603313          8603307   \n",
       "2480810     2019M01    201905           8603313          8603307   \n",
       "\n",
       "                StartSite       SlutSite    NyUdførende ModalKomb  \\\n",
       "290249   Bella Center St.  Nørreport St.          Metro       Tog   \n",
       "810448   Bella Center St.  Nørreport St.          Metro       Tog   \n",
       "810449   Bella Center St.  Nørreport St.  Movia_H+Metro   Tog+Bus   \n",
       "1393906  Bella Center St.  Nørreport St.          Metro       Tog   \n",
       "1393907  Bella Center St.  Nørreport St.  Movia_H+Metro   Tog+Bus   \n",
       "1984471  Bella Center St.  Nørreport St.    First+Metro       Tog   \n",
       "1984472  Bella Center St.  Nørreport St.          Metro       Tog   \n",
       "1984473  Bella Center St.  Nørreport St.  Movia_H+Metro   Tog+Bus   \n",
       "2480810  Bella Center St.  Nørreport St.          Metro       Tog   \n",
       "\n",
       "         SUM_of_Personrejser  \n",
       "290249                 700.0  \n",
       "810448                 909.0  \n",
       "810449                   1.0  \n",
       "1393906                999.0  \n",
       "1393907                  1.0  \n",
       "1984471                  1.0  \n",
       "1984472                968.0  \n",
       "1984473                  2.0  \n",
       "2480810                749.0  "
      ]
     },
     "execution_count": 32,
     "metadata": {},
     "output_type": "execute_result"
    }
   ],
   "source": [
    "data[mask2]"
   ]
  },
  {
   "cell_type": "code",
   "execution_count": 34,
   "metadata": {},
   "outputs": [
    {
     "data": {
      "text/plain": [
       "30735"
      ]
     },
     "execution_count": 34,
     "metadata": {},
     "output_type": "execute_result"
    }
   ],
   "source": [
    "len(data[\"StartStopPointNr\"].unique())"
   ]
  },
  {
   "cell_type": "code",
   "execution_count": 37,
   "metadata": {},
   "outputs": [
    {
     "data": {
      "text/plain": [
       "19505"
      ]
     },
     "execution_count": 37,
     "metadata": {},
     "output_type": "execute_result"
    }
   ],
   "source": [
    "len(data[\"SlutSite\"].unique())"
   ]
  },
  {
   "cell_type": "code",
   "execution_count": null,
   "metadata": {},
   "outputs": [],
   "source": []
  }
 ],
 "metadata": {
  "kernelspec": {
   "display_name": "Python 3 (ipykernel)",
   "language": "python",
   "name": "python3"
  },
  "language_info": {
   "codemirror_mode": {
    "name": "ipython",
    "version": 3
   },
   "file_extension": ".py",
   "mimetype": "text/x-python",
   "name": "python",
   "nbconvert_exporter": "python",
   "pygments_lexer": "ipython3",
   "version": "3.8.11"
  }
 },
 "nbformat": 4,
 "nbformat_minor": 4
}

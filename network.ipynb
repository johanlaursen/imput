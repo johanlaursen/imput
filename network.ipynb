{
 "cells": [
  {
   "cell_type": "code",
   "execution_count": 3,
   "metadata": {
    "tags": []
   },
   "outputs": [],
   "source": [
    "import osmnx as ox # visualisation library for networks\n",
    "import pickle\n",
    "from collections import defaultdict\n",
    "from tqdm import tqdm\n",
    "from sklearn.neighbors import BallTree"
   ]
  },
  {
   "cell_type": "code",
   "execution_count": 4,
   "metadata": {
    "tags": []
   },
   "outputs": [],
   "source": [
    "# Load graph\n",
    "with open('rejsekort_graph_cleaned.gpickle', 'rb') as f:\n",
    "    G = pickle.load(f)"
   ]
  },
  {
   "cell_type": "code",
   "execution_count": 5,
   "metadata": {
    "tags": []
   },
   "outputs": [],
   "source": [
    "def tacicab_sphere(latlong1,latlong2):\n",
    "    '''\n",
    "    Returns the taxicab distance between two points on a sphere (given lat-long pairs).\n",
    "    Formula: http://cs.ucmo.edu/~mjms/2005.1/bayar.pdf\n",
    "    '''\n",
    "    x1,y1 = latlong1\n",
    "    x2,y2 = latlong2\n",
    "    return min(\n",
    "        geodesic((x1,y1),(x2,y1)).meters + geodesic((x2,y1),(x2,y2)).meters,\n",
    "        geodesic((x1,y1),(x1,y2)).meters + geodesic((x1,y2),(x2,y2)).meters\n",
    "    )\n",
    "\n",
    "def m2s(m):\n",
    "    return m/1.25 #Walking speed used by Google Maps\n",
    "\n",
    "# Conversion function for input to BallTree\n",
    "def convert_latlon_to_balltree_input(lat, lon):\n",
    "    return np.vstack([np.radians(lon), np.radians(90-np.array(lat))]).T"
   ]
  },
  {
   "cell_type": "code",
   "execution_count": 6,
   "metadata": {
    "tags": []
   },
   "outputs": [],
   "source": [
    "def add_walk_edges(G):\n",
    "    '''\n",
    "    Adds walk edges to network using the BallTree algorithm for fast neighbor detection\n",
    "    '''\n",
    "    G = G.copy()\n",
    "    node_positions = convert_latlon_to_balltree_input([G.nodes[node][\"y\"] for node in G.nodes()], [G.nodes[node][\"x\"] for node in G.nodes()])\n",
    "    balltree = BallTree(node_positions, metric='haversine')\n",
    "\n",
    "    for idx1, node1 in enumerate(tqdm(G.nodes())):\n",
    "        node1_position = convert_latlon_to_balltree_input([G.nodes[node1][\"y\"]], [G.nodes[node1][\"x\"]])\n",
    "        \n",
    "        # Use the BallTree to find all nodes within 1 km\n",
    "        # Divide by the Earth's radius, which is approximately 6371 kilometres, to convert to radians\n",
    "        close_nodes = balltree.query_radius(node1_position, r=1.0 / 6371)\n",
    "        close_nodes = close_nodes[0]  # query_radius returns a list of arrays, we are interested in the first array\n",
    "\n",
    "        for idx2 in close_nodes:\n",
    "            node2 = list(G.nodes())[idx2]\n",
    "            if node1 == node2:\n",
    "                continue\n",
    "            for (u,v,edge_type) in G.edges(node1, data=\"mode\"):\n",
    "                if v == node2 and edge_type in {\"transfer\",\"walk\"}:\n",
    "                    break\n",
    "            else:\n",
    "                walk_time = m2s(tacicab_sphere((G.nodes[node1][\"x\"],G.nodes[node1][\"y\"]),(G.nodes[node2][\"x\"],G.nodes[node2][\"y\"])))\n",
    "                if walk_time <= 30*60 or node2 in G.neighbors(node1): #If less than x time away or transit edge (non-walk, non-transfer neigbor-edges)\n",
    "                    G.add_edge(node1, node2, routes = {}, trips = {}, mode = 'walk', weight=max(walk_time,180))\n",
    "    return G"
   ]
  },
  {
   "cell_type": "code",
   "execution_count": 41,
   "metadata": {
    "tags": []
   },
   "outputs": [
    {
     "name": "stderr",
     "output_type": "stream",
     "text": [
      "100%|█████████████████████████████████████████████████████████████████████████████| 38172/38172 [15:40<00:00, 40.61it/s]\n"
     ]
    }
   ],
   "source": [
    "G_walks = add_walk_edges(G)"
   ]
  },
  {
   "cell_type": "code",
   "execution_count": 53,
   "metadata": {
    "tags": []
   },
   "outputs": [],
   "source": [
    "# Save new graph to a pickle file\n",
    "with open('G_walks.pkl', 'wb') as file:\n",
    "    pickle.dump(G_walks, file)"
   ]
  }
 ],
 "metadata": {
  "kernelspec": {
   "display_name": "Python 3 (ipykernel)",
   "language": "python",
   "name": "python3"
  },
  "language_info": {
   "codemirror_mode": {
    "name": "ipython",
    "version": 3
   },
   "file_extension": ".py",
   "mimetype": "text/x-python",
   "name": "python",
   "nbconvert_exporter": "python",
   "pygments_lexer": "ipython3",
   "version": "3.10.10"
  }
 },
 "nbformat": 4,
 "nbformat_minor": 4
}
